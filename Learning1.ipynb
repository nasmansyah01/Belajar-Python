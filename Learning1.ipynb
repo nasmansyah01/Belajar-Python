{
  "nbformat": 4,
  "nbformat_minor": 0,
  "metadata": {
    "colab": {
      "provenance": [],
      "authorship_tag": "ABX9TyOe2nA6hWK6FN2//FGpVdC5",
      "include_colab_link": true
    },
    "kernelspec": {
      "name": "python3",
      "display_name": "Python 3"
    },
    "language_info": {
      "name": "python"
    }
  },
  "cells": [
    {
      "cell_type": "markdown",
      "metadata": {
        "id": "view-in-github",
        "colab_type": "text"
      },
      "source": [
        "<a href=\"https://colab.research.google.com/github/nasmansyah01/Belajar-Python/blob/main/Learning1.ipynb\" target=\"_parent\"><img src=\"https://colab.research.google.com/assets/colab-badge.svg\" alt=\"Open In Colab\"/></a>"
      ]
    },
    {
      "cell_type": "code",
      "execution_count": 2,
      "metadata": {
        "colab": {
          "base_uri": "https://localhost:8080/"
        },
        "id": "76ZMvrLDQOMR",
        "outputId": "76c864e7-015f-470b-ad7c-09a4a3f836a1"
      },
      "outputs": [
        {
          "output_type": "stream",
          "name": "stdout",
          "text": [
            "Hello World!\n",
            "Selamat Belajar Wiki Nasmansyah\n",
            "Saya Sedang Belajar Bahasa Pemrograman Python\n"
          ]
        }
      ],
      "source": [
        "#Kode Program Pertama\n",
        "#Selamat Balajar Wiki Nasmansyah\n",
        "\n",
        "\n",
        "print (\"Hello World!\")\n",
        "print (\"Selamat Belajar Wiki Nasmansyah\")\n",
        "print (\"Saya Sedang Belajar Bahasa Pemrograman Python\")"
      ]
    },
    {
      "cell_type": "code",
      "source": [
        "#Variabel Dan Assignment\n",
        "name = 'Wiki Nasmansyah'\n",
        "major = 'Teknik Informatika'\n",
        "print (name)\n",
        "print (major)\n",
        "\n",
        "\n",
        "nilai = 40 + 50\n",
        "result = nilai-20\n",
        "print (result)"
      ],
      "metadata": {
        "colab": {
          "base_uri": "https://localhost:8080/"
        },
        "id": "uyZP7KtwRPBR",
        "outputId": "d82b652f-d598-4607-da3c-801346bf86d2"
      },
      "execution_count": 3,
      "outputs": [
        {
          "output_type": "stream",
          "name": "stdout",
          "text": [
            "Wiki Nasmansyah\n",
            "Teknik Informatika\n",
            "70\n"
          ]
        }
      ]
    },
    {
      "cell_type": "code",
      "source": [
        "#input/Output dan komentar\n",
        "\n",
        "\n",
        "#input\n",
        "name = input (\"Masukan Nama Anda : \")\n",
        "age = input (\"Masukan Umur Anda : \")\n",
        "\n",
        "\n",
        "#output\n",
        "print (\"Nama Anda Adalah : \", name)\n",
        "print (\"Umur Anda Adalah : \", age)\n",
        "\n",
        "\n",
        "#ini adalaha inline Comment\n",
        "print (\"Hello Wiki\") #ini adalah komentar\n",
        "\n",
        "\"\"\" ini adalah komentar\n",
        "multi line  \"\"\"\n",
        "print (\"Hello Wiki\")"
      ],
      "metadata": {
        "colab": {
          "base_uri": "https://localhost:8080/"
        },
        "id": "c2yZ3Ti0ZSQE",
        "outputId": "68c77399-e5e1-456a-9514-88db65948e33"
      },
      "execution_count": 5,
      "outputs": [
        {
          "output_type": "stream",
          "name": "stdout",
          "text": [
            "Masukan Nama Anda : rino\n",
            "Masukan Umur Anda : 18\n",
            "Nama Anda Adalah :  rino\n",
            "Umur Anda Adalah :  18\n",
            "Hello Wiki\n",
            "Hello Wiki\n"
          ]
        }
      ]
    },
    {
      "cell_type": "code",
      "source": [
        "#Kuis Belajar membuat variabel\n",
        "\n",
        "\"\"\"\n",
        "TODO:\n",
        "- Buatlah sebuah variabel bernama greeting.\n",
        "- Assign teks \"Saya mulai belajar Python!\" pada variabel tersebut.\n",
        "\"\"\"\n",
        "\n",
        "# TODO: Silakan buat kode Anda di bawah ini.\n",
        "\n",
        "greeting = \"Saya mulai belajar Python!\"\n",
        "print (greeting)"
      ],
      "metadata": {
        "colab": {
          "base_uri": "https://localhost:8080/"
        },
        "id": "4Gvk3e7Pa8me",
        "outputId": "df0c2f96-a989-49fc-ad1c-7ed7bd4fcc8d"
      },
      "execution_count": 6,
      "outputs": [
        {
          "output_type": "stream",
          "name": "stdout",
          "text": [
            "Saya mulai belajar Python!\n"
          ]
        }
      ]
    }
  ]
}