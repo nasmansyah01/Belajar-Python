{
  "nbformat": 4,
  "nbformat_minor": 0,
  "metadata": {
    "colab": {
      "provenance": [],
      "authorship_tag": "ABX9TyOt841d7lxtiVELOc8UBff4",
      "include_colab_link": true
    },
    "kernelspec": {
      "name": "python3",
      "display_name": "Python 3"
    },
    "language_info": {
      "name": "python"
    }
  },
  "cells": [
    {
      "cell_type": "markdown",
      "metadata": {
        "id": "view-in-github",
        "colab_type": "text"
      },
      "source": [
        "<a href=\"https://colab.research.google.com/github/nasmansyah01/Belajar-Python/blob/main/Learning1.ipynb\" target=\"_parent\"><img src=\"https://colab.research.google.com/assets/colab-badge.svg\" alt=\"Open In Colab\"/></a>"
      ]
    },
    {
      "cell_type": "code",
      "execution_count": 2,
      "metadata": {
        "colab": {
          "base_uri": "https://localhost:8080/"
        },
        "id": "76ZMvrLDQOMR",
        "outputId": "76c864e7-015f-470b-ad7c-09a4a3f836a1"
      },
      "outputs": [
        {
          "output_type": "stream",
          "name": "stdout",
          "text": [
            "Hello World!\n",
            "Selamat Belajar Wiki Nasmansyah\n",
            "Saya Sedang Belajar Bahasa Pemrograman Python\n"
          ]
        }
      ],
      "source": [
        "#Kode Program Pertama\n",
        "#Selamat Balajar Wiki Nasmansyah\n",
        "\n",
        "\n",
        "print (\"Hello World!\")\n",
        "print (\"Selamat Belajar Wiki Nasmansyah\")\n",
        "print (\"Saya Sedang Belajar Bahasa Pemrograman Python\")"
      ]
    },
    {
      "cell_type": "code",
      "source": [],
      "metadata": {
        "id": "uyZP7KtwRPBR"
      },
      "execution_count": null,
      "outputs": []
    }
  ]
}